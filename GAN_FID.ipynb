{
  "nbformat": 4,
  "nbformat_minor": 0,
  "metadata": {
    "kernelspec": {
      "display_name": "Python 3",
      "language": "python",
      "name": "python3"
    },
    "language_info": {
      "codemirror_mode": {
        "name": "ipython",
        "version": 3
      },
      "file_extension": ".py",
      "mimetype": "text/x-python",
      "name": "python",
      "nbconvert_exporter": "python",
      "pygments_lexer": "ipython3",
      "version": "3.6.6"
    },
    "colab": {
      "name": "GAN.ipynb",
      "provenance": [],
      "collapsed_sections": []
    },
    "accelerator": "GPU"
  },
  "cells": [
    {
      "cell_type": "code",
      "metadata": {
        "id": "3b3SMOxrm-EC"
      },
      "source": [
        "import numpy as np\n",
        "from glob import glob\n",
        "from matplotlib import pyplot\n",
        "import tensorflow as tf\n",
        "from tensorflow.keras.layers import *\n",
        "from tensorflow.keras.models import Model\n",
        "from tensorflow.keras.optimizers import Adam"
      ],
      "execution_count": 1,
      "outputs": []
    },
    {
      "cell_type": "code",
      "metadata": {
        "colab": {
          "base_uri": "https://localhost:8080/"
        },
        "id": "SyS3l0ahnFDq",
        "outputId": "eba563fd-8347-4edf-8f95-94557531c9f5"
      },
      "source": [
        "from google.colab import drive\n",
        "drive.mount('/content/drive')"
      ],
      "execution_count": 2,
      "outputs": [
        {
          "output_type": "stream",
          "text": [
            "Mounted at /content/drive\n"
          ],
          "name": "stdout"
        }
      ]
    },
    {
      "cell_type": "code",
      "metadata": {
        "id": "3OkYaUy7m-EM"
      },
      "source": [
        "def load_image(image_path):\n",
        "    img = tf.io.read_file(image_path)\n",
        "    img = tf.io.decode_jpeg(img)\n",
        "    img = tf.image.resize_with_crop_or_pad(img, IMG_H, IMG_W)\n",
        "    img = tf.cast(img, tf.float32)\n",
        "    img = (img - 127.5) / 127.5\n",
        "    return img\n",
        "\n",
        "def tf_dataset(images_path, batch_size):\n",
        "    dataset = tf.data.Dataset.from_tensor_slices(images_path)\n",
        "    dataset = dataset.shuffle(buffer_size=10240)\n",
        "    dataset = dataset.map(load_image, num_parallel_calls=tf.data.experimental.AUTOTUNE)\n",
        "    dataset = dataset.batch(batch_size)\n",
        "    dataset = dataset.prefetch(buffer_size=tf.data.experimental.AUTOTUNE)\n",
        "    return dataset"
      ],
      "execution_count": 3,
      "outputs": []
    },
    {
      "cell_type": "code",
      "metadata": {
        "id": "wy6V9pYjm-EM"
      },
      "source": [
        "batch_size = 10\n",
        "latent_dim = 128\n",
        "num_epochs = 1000\n",
        "IMG_H = 64\n",
        "IMG_W = 64\n",
        "IMG_C = 3\n",
        "\n",
        "images_path = glob('/content/drive/MyDrive/Colab Notebooks/DL Project/data/*')\n",
        "images_dataset = tf_dataset(images_path, batch_size)\n",
        "\n",
        "cross_entropy = tf.keras.losses.BinaryCrossentropy(from_logits=True, label_smoothing=0.1)\n",
        "w_init = tf.keras.initializers.RandomNormal(mean=0.0, stddev=0.02)"
      ],
      "execution_count": 4,
      "outputs": []
    },
    {
      "cell_type": "markdown",
      "metadata": {
        "id": "HS3-EvW4m-EN"
      },
      "source": [
        "## Generator"
      ]
    },
    {
      "cell_type": "code",
      "metadata": {
        "id": "OtdhCwTcm-EN"
      },
      "source": [
        "def build_generator(latent_dim):\n",
        "    \n",
        "    filters = 32\n",
        "    output_strides = 16\n",
        "    h_output = IMG_H // output_strides\n",
        "    w_output = IMG_W // output_strides\n",
        "    \n",
        "    model = tf.keras.Sequential()\n",
        "    model.add(tf.keras.layers.Dense(16 * filters * h_output * w_output, use_bias=False, input_shape=(latent_dim,)))\n",
        "    model.add(BatchNormalization())\n",
        "    model.add(LeakyReLU(alpha=0.2))\n",
        "    model.add(Reshape((h_output, w_output, 16 * filters)))\n",
        "    \n",
        "    #DeConv2D\n",
        "    model.add(Conv2DTranspose(\n",
        "        filters=256,\n",
        "        kernel_size=5,\n",
        "        kernel_initializer=w_init,\n",
        "        padding=\"same\",\n",
        "        strides=2))\n",
        "    model.add(LeakyReLU(alpha=0.2))\n",
        "    model.add(Dropout(0.3))\n",
        "              \n",
        "    model.add(Conv2DTranspose(\n",
        "        filters=128,\n",
        "        kernel_size=5,\n",
        "        kernel_initializer=w_init,\n",
        "        padding=\"same\",\n",
        "        strides=2))\n",
        "    model.add(LeakyReLU(alpha=0.2))\n",
        "    model.add(Dropout(0.3))\n",
        "              \n",
        "    model.add(Conv2DTranspose(\n",
        "        filters=64,\n",
        "        kernel_size=5,\n",
        "        kernel_initializer=w_init,\n",
        "        padding=\"same\",\n",
        "        strides=2))\n",
        "    model.add(LeakyReLU(alpha=0.2))\n",
        "    model.add(Dropout(0.3))\n",
        "              \n",
        "    model.add(Conv2DTranspose(\n",
        "        filters=32,\n",
        "        kernel_size=5,\n",
        "        kernel_initializer=w_init,\n",
        "        padding=\"same\",\n",
        "        strides=2))\n",
        "    model.add(LeakyReLU(alpha=0.2))\n",
        "    model.add(Dropout(0.3))\n",
        "              \n",
        "    #Conv\n",
        "    model.add(Conv2D(\n",
        "        filters=3,\n",
        "        kernel_size=5,\n",
        "        kernel_initializer=w_init,\n",
        "        padding='same',\n",
        "        strides=1))\n",
        "    model.add(Activation(\"tanh\"))\n",
        "              \n",
        "    return model"
      ],
      "execution_count": 5,
      "outputs": []
    },
    {
      "cell_type": "code",
      "metadata": {
        "id": "T60CcXtsm-EO"
      },
      "source": [
        "# generator optimization function\n",
        "generator = build_generator(latent_dim)\n",
        "generator_optimizer = Adam(learning_rate=0.0002, beta_1=0.5)"
      ],
      "execution_count": 6,
      "outputs": []
    },
    {
      "cell_type": "code",
      "metadata": {
        "scrolled": true,
        "colab": {
          "base_uri": "https://localhost:8080/",
          "height": 1000
        },
        "id": "9mNpJx0xm-EP",
        "outputId": "eab39693-1748-43d2-892e-8c43f536e93a"
      },
      "source": [
        "tf.keras.utils.plot_model(generator, to_file='generator.png')"
      ],
      "execution_count": 8,
      "outputs": [
        {
          "output_type": "execute_result",
          "data": {
            "image/png": "[encoded data removed]",
            "text/plain": [
              "<IPython.core.display.Image object>"
            ]
          },
          "metadata": {
            "tags": []
          },
          "execution_count": 8
        }
      ]
    },
    {
      "cell_type": "markdown",
      "metadata": {
        "id": "TT5svEA9m-EQ"
      },
      "source": [
        "## Discriminator"
      ]
    },
    {
      "cell_type": "code",
      "metadata": {
        "id": "guhu7Iwym-EQ"
      },
      "source": [
        "def build_discriminator():\n",
        "    \n",
        "    filters = 64\n",
        "    output_strides = 16\n",
        "    h_output = IMG_H // output_strides\n",
        "    w_output = IMG_W // output_strides\n",
        "    \n",
        "    model = tf.keras.Sequential()\n",
        "    model.add(Input(shape=(IMG_H, IMG_W, IMG_C)))\n",
        "    \n",
        "    model.add(Conv2D(\n",
        "        filters=256,\n",
        "        kernel_size=5,\n",
        "        kernel_initializer=w_init,\n",
        "        padding='same',\n",
        "        strides=2))\n",
        "    model.add(LeakyReLU(alpha=0.2))\n",
        "    model.add(Dropout(0.3))\n",
        "    \n",
        "    model.add(Conv2D(\n",
        "        filters=128,\n",
        "        kernel_size=5,\n",
        "        kernel_initializer=w_init,\n",
        "        padding='same',\n",
        "        strides=2))\n",
        "    model.add(LeakyReLU(alpha=0.2))\n",
        "    model.add(Dropout(0.3))\n",
        "    \n",
        "    model.add(Conv2D(\n",
        "        filters=32,\n",
        "        kernel_size=5,\n",
        "        kernel_initializer=w_init,\n",
        "        padding='same',\n",
        "        strides=2))\n",
        "    model.add(LeakyReLU(alpha=0.2))\n",
        "    model.add(Dropout(0.3))\n",
        "    \n",
        "    model.add(Conv2D(\n",
        "        filters=64,\n",
        "        kernel_size=5,\n",
        "        kernel_initializer=w_init,\n",
        "        padding='same',\n",
        "        strides=2))\n",
        "    model.add(LeakyReLU(alpha=0.2))\n",
        "    model.add(Dropout(0.3))\n",
        "    \n",
        "    model.add(Flatten())\n",
        "    model.add(Dense(1))\n",
        "    \n",
        "    return model"
      ],
      "execution_count": 9,
      "outputs": []
    },
    {
      "cell_type": "code",
      "metadata": {
        "colab": {
          "base_uri": "https://localhost:8080/"
        },
        "id": "basQf_Hlm-ER",
        "outputId": "9b612592-13fe-4a54-d158-a8597c5e2220"
      },
      "source": [
        "discriminator = build_discriminator()\n",
        "discriminator_optimizer = Adam(learning_rate=0.0002, beta_1=0.5)"
      ],
      "execution_count": 10,
      "outputs": [
        {
          "output_type": "stream",
          "text": [
            "WARNING:tensorflow:Please add `keras.layers.InputLayer` instead of `keras.Input` to Sequential model. `keras.Input` is intended to be used by Functional model.\n"
          ],
          "name": "stdout"
        }
      ]
    },
    {
      "cell_type": "code",
      "metadata": {
        "scrolled": true,
        "colab": {
          "base_uri": "https://localhost:8080/",
          "height": 1000
        },
        "id": "JYOLofgwm-ES",
        "outputId": "e506d935-f419-4561-f73f-2888a428911f"
      },
      "source": [
        "tf.keras.utils.plot_model(discriminator, to_file='discriminator.png')"
      ],
      "execution_count": 11,
      "outputs": [
        {
          "output_type": "execute_result",
          "data": {
            "image/png": "[encoded data removed]",
            "text/plain": [
              "<IPython.core.display.Image object>"
            ]
          },
          "metadata": {
            "tags": []
          },
          "execution_count": 11
        }
      ]
    },
    {
      "cell_type": "markdown",
      "metadata": {
        "id": "YBaCshwAm-ES"
      },
      "source": [
        "## Train"
      ]
    },
    {
      "cell_type": "code",
      "metadata": {
        "id": "WsilT64im-ES"
      },
      "source": [
        "def gan(real_images):\n",
        "        batch_size = tf.shape(real_images)[0]\n",
        "\n",
        "        for _ in range(2):\n",
        "            ## Train the discriminator\n",
        "            random_latent_vectors = tf.random.normal(shape=(batch_size, latent_dim))\n",
        "            generated_images = generator(random_latent_vectors)\n",
        "            generated_labels = tf.zeros((batch_size, 1))\n",
        "\n",
        "            with tf.GradientTape() as ftape:\n",
        "                predictions = discriminator(generated_images)\n",
        "                d1_loss = cross_entropy(generated_labels, predictions)\n",
        "            grads = ftape.gradient(d1_loss, discriminator.trainable_weights)\n",
        "            discriminator_optimizer.apply_gradients(zip(grads, discriminator.trainable_weights))\n",
        "\n",
        "            ## Train the discriminator\n",
        "            labels = tf.ones((batch_size, 1))\n",
        "\n",
        "            with tf.GradientTape() as rtape:\n",
        "                predictions = discriminator(real_images)\n",
        "                d2_loss = cross_entropy(labels, predictions)\n",
        "            grads = rtape.gradient(d2_loss, discriminator.trainable_weights)\n",
        "            discriminator_optimizer.apply_gradients(zip(grads, discriminator.trainable_weights))\n",
        "\n",
        "        ## Train the generator\n",
        "        random_latent_vectors = tf.random.normal(shape=(batch_size, latent_dim))\n",
        "        misleading_labels = tf.ones((batch_size, 1))\n",
        "\n",
        "        with tf.GradientTape() as gtape:\n",
        "            predictions = discriminator(generator(random_latent_vectors))\n",
        "            g_loss = cross_entropy(misleading_labels, predictions)\n",
        "        grads = gtape.gradient(g_loss, generator.trainable_weights)\n",
        "        generator_optimizer.apply_gradients(zip(grads, generator.trainable_weights))\n",
        "\n",
        "        return {\"d1_loss\": d1_loss, \"d2_loss\": d2_loss, \"g_loss\": g_loss}"
      ],
      "execution_count": 12,
      "outputs": []
    },
    {
      "cell_type": "code",
      "metadata": {
        "id": "9Qw6hUi9m-EU"
      },
      "source": [
        "def train(images_dataset, num_epochs):\n",
        "    for epoch in range(num_epochs):\n",
        "        for image in images_dataset:\n",
        "            vals = gan(image)\n",
        "        print('epoch:', epoch, 'Discriminator loss:', vals['d1_loss']+vals['d2_loss'], 'Generator loss:', vals['g_loss'])"
      ],
      "execution_count": 14,
      "outputs": []
    },
    {
      "cell_type": "code",
      "metadata": {
        "scrolled": true,
        "colab": {
          "base_uri": "https://localhost:8080/"
        },
        "id": "v-YrHT5vm-EU",
        "outputId": "e0e36e84-7488-4db1-8a68-9397e238f183"
      },
      "source": [
        "train(images_dataset, 100)"
      ],
      "execution_count": 15,
      "outputs": [
        {
          "output_type": "stream",
          "text": [
            "epoch: 0 Discriminator loss: tf.Tensor(0.4228749, shape=(), dtype=float32) Generator loss: tf.Tensor(3.707615, shape=(), dtype=float32)\n",
            "epoch: 1 Discriminator loss: tf.Tensor(0.41889036, shape=(), dtype=float32) Generator loss: tf.Tensor(2.542191, shape=(), dtype=float32)\n",
            "epoch: 2 Discriminator loss: tf.Tensor(0.40782484, shape=(), dtype=float32) Generator loss: tf.Tensor(2.9170244, shape=(), dtype=float32)\n",
            "epoch: 3 Discriminator loss: tf.Tensor(0.4263615, shape=(), dtype=float32) Generator loss: tf.Tensor(2.5499694, shape=(), dtype=float32)\n",
            "epoch: 4 Discriminator loss: tf.Tensor(0.40823197, shape=(), dtype=float32) Generator loss: tf.Tensor(2.9769175, shape=(), dtype=float32)\n",
            "epoch: 5 Discriminator loss: tf.Tensor(0.43866473, shape=(), dtype=float32) Generator loss: tf.Tensor(3.332047, shape=(), dtype=float32)\n",
            "epoch: 6 Discriminator loss: tf.Tensor(0.42334813, shape=(), dtype=float32) Generator loss: tf.Tensor(3.9749637, shape=(), dtype=float32)\n",
            "epoch: 7 Discriminator loss: tf.Tensor(0.41859028, shape=(), dtype=float32) Generator loss: tf.Tensor(2.8375564, shape=(), dtype=float32)\n",
            "epoch: 8 Discriminator loss: tf.Tensor(0.4788728, shape=(), dtype=float32) Generator loss: tf.Tensor(2.5128725, shape=(), dtype=float32)\n",
            "epoch: 9 Discriminator loss: tf.Tensor(0.4665711, shape=(), dtype=float32) Generator loss: tf.Tensor(2.7036505, shape=(), dtype=float32)\n",
            "epoch: 10 Discriminator loss: tf.Tensor(0.47112566, shape=(), dtype=float32) Generator loss: tf.Tensor(2.448017, shape=(), dtype=float32)\n",
            "epoch: 11 Discriminator loss: tf.Tensor(0.40738642, shape=(), dtype=float32) Generator loss: tf.Tensor(1.8303134, shape=(), dtype=float32)\n",
            "epoch: 12 Discriminator loss: tf.Tensor(0.40885067, shape=(), dtype=float32) Generator loss: tf.Tensor(3.451018, shape=(), dtype=float32)\n",
            "epoch: 13 Discriminator loss: tf.Tensor(0.5081295, shape=(), dtype=float32) Generator loss: tf.Tensor(3.6026165, shape=(), dtype=float32)\n",
            "epoch: 14 Discriminator loss: tf.Tensor(0.48917922, shape=(), dtype=float32) Generator loss: tf.Tensor(3.4192986, shape=(), dtype=float32)\n",
            "epoch: 15 Discriminator loss: tf.Tensor(0.49278858, shape=(), dtype=float32) Generator loss: tf.Tensor(4.8897233, shape=(), dtype=float32)\n",
            "epoch: 16 Discriminator loss: tf.Tensor(0.41396162, shape=(), dtype=float32) Generator loss: tf.Tensor(3.697553, shape=(), dtype=float32)\n",
            "epoch: 17 Discriminator loss: tf.Tensor(0.40758872, shape=(), dtype=float32) Generator loss: tf.Tensor(3.223388, shape=(), dtype=float32)\n",
            "epoch: 18 Discriminator loss: tf.Tensor(0.47039872, shape=(), dtype=float32) Generator loss: tf.Tensor(2.52605, shape=(), dtype=float32)\n",
            "epoch: 19 Discriminator loss: tf.Tensor(0.40587997, shape=(), dtype=float32) Generator loss: tf.Tensor(2.6725597, shape=(), dtype=float32)\n",
            "epoch: 20 Discriminator loss: tf.Tensor(0.42328203, shape=(), dtype=float32) Generator loss: tf.Tensor(4.6152678, shape=(), dtype=float32)\n",
            "epoch: 21 Discriminator loss: tf.Tensor(0.41772783, shape=(), dtype=float32) Generator loss: tf.Tensor(4.338049, shape=(), dtype=float32)\n",
            "epoch: 22 Discriminator loss: tf.Tensor(0.43965474, shape=(), dtype=float32) Generator loss: tf.Tensor(3.861562, shape=(), dtype=float32)\n",
            "epoch: 23 Discriminator loss: tf.Tensor(0.42872313, shape=(), dtype=float32) Generator loss: tf.Tensor(3.5604656, shape=(), dtype=float32)\n",
            "epoch: 24 Discriminator loss: tf.Tensor(0.4344061, shape=(), dtype=float32) Generator loss: tf.Tensor(2.7434351, shape=(), dtype=float32)\n",
            "epoch: 25 Discriminator loss: tf.Tensor(0.46416187, shape=(), dtype=float32) Generator loss: tf.Tensor(2.1059823, shape=(), dtype=float32)\n",
            "epoch: 26 Discriminator loss: tf.Tensor(0.43198162, shape=(), dtype=float32) Generator loss: tf.Tensor(3.1540012, shape=(), dtype=float32)\n",
            "epoch: 27 Discriminator loss: tf.Tensor(0.42028773, shape=(), dtype=float32) Generator loss: tf.Tensor(3.6333976, shape=(), dtype=float32)\n",
            "epoch: 28 Discriminator loss: tf.Tensor(0.49341673, shape=(), dtype=float32) Generator loss: tf.Tensor(2.179594, shape=(), dtype=float32)\n",
            "epoch: 29 Discriminator loss: tf.Tensor(0.41883174, shape=(), dtype=float32) Generator loss: tf.Tensor(3.7827277, shape=(), dtype=float32)\n",
            "epoch: 30 Discriminator loss: tf.Tensor(0.442393, shape=(), dtype=float32) Generator loss: tf.Tensor(3.8073075, shape=(), dtype=float32)\n",
            "epoch: 31 Discriminator loss: tf.Tensor(0.5028847, shape=(), dtype=float32) Generator loss: tf.Tensor(1.814316, shape=(), dtype=float32)\n",
            "epoch: 32 Discriminator loss: tf.Tensor(0.44431794, shape=(), dtype=float32) Generator loss: tf.Tensor(4.5667286, shape=(), dtype=float32)\n",
            "epoch: 33 Discriminator loss: tf.Tensor(0.4145155, shape=(), dtype=float32) Generator loss: tf.Tensor(3.2978992, shape=(), dtype=float32)\n",
            "epoch: 34 Discriminator loss: tf.Tensor(0.4519933, shape=(), dtype=float32) Generator loss: tf.Tensor(3.0601306, shape=(), dtype=float32)\n",
            "epoch: 35 Discriminator loss: tf.Tensor(0.41217157, shape=(), dtype=float32) Generator loss: tf.Tensor(3.3917394, shape=(), dtype=float32)\n",
            "epoch: 36 Discriminator loss: tf.Tensor(0.44613308, shape=(), dtype=float32) Generator loss: tf.Tensor(3.0429416, shape=(), dtype=float32)\n",
            "epoch: 37 Discriminator loss: tf.Tensor(0.43030316, shape=(), dtype=float32) Generator loss: tf.Tensor(3.0099049, shape=(), dtype=float32)\n",
            "epoch: 38 Discriminator loss: tf.Tensor(0.43388602, shape=(), dtype=float32) Generator loss: tf.Tensor(2.8555472, shape=(), dtype=float32)\n",
            "epoch: 39 Discriminator loss: tf.Tensor(0.42826557, shape=(), dtype=float32) Generator loss: tf.Tensor(3.5407004, shape=(), dtype=float32)\n",
            "epoch: 40 Discriminator loss: tf.Tensor(0.43443173, shape=(), dtype=float32) Generator loss: tf.Tensor(2.9698944, shape=(), dtype=float32)\n",
            "epoch: 41 Discriminator loss: tf.Tensor(0.49487805, shape=(), dtype=float32) Generator loss: tf.Tensor(4.0645204, shape=(), dtype=float32)\n",
            "epoch: 42 Discriminator loss: tf.Tensor(0.4228536, shape=(), dtype=float32) Generator loss: tf.Tensor(3.4636378, shape=(), dtype=float32)\n",
            "epoch: 43 Discriminator loss: tf.Tensor(0.42763752, shape=(), dtype=float32) Generator loss: tf.Tensor(3.279562, shape=(), dtype=float32)\n",
            "epoch: 44 Discriminator loss: tf.Tensor(0.49457917, shape=(), dtype=float32) Generator loss: tf.Tensor(5.107522, shape=(), dtype=float32)\n",
            "epoch: 45 Discriminator loss: tf.Tensor(0.48594058, shape=(), dtype=float32) Generator loss: tf.Tensor(3.8363044, shape=(), dtype=float32)\n",
            "epoch: 46 Discriminator loss: tf.Tensor(0.44573182, shape=(), dtype=float32) Generator loss: tf.Tensor(2.1494946, shape=(), dtype=float32)\n",
            "epoch: 47 Discriminator loss: tf.Tensor(0.46020013, shape=(), dtype=float32) Generator loss: tf.Tensor(3.3927484, shape=(), dtype=float32)\n",
            "epoch: 48 Discriminator loss: tf.Tensor(0.43877614, shape=(), dtype=float32) Generator loss: tf.Tensor(4.401109, shape=(), dtype=float32)\n",
            "epoch: 49 Discriminator loss: tf.Tensor(0.43003812, shape=(), dtype=float32) Generator loss: tf.Tensor(4.572034, shape=(), dtype=float32)\n",
            "epoch: 50 Discriminator loss: tf.Tensor(0.45258304, shape=(), dtype=float32) Generator loss: tf.Tensor(3.2053657, shape=(), dtype=float32)\n",
            "epoch: 51 Discriminator loss: tf.Tensor(0.4926159, shape=(), dtype=float32) Generator loss: tf.Tensor(3.7558227, shape=(), dtype=float32)\n",
            "epoch: 52 Discriminator loss: tf.Tensor(0.42778644, shape=(), dtype=float32) Generator loss: tf.Tensor(3.1411736, shape=(), dtype=float32)\n",
            "epoch: 53 Discriminator loss: tf.Tensor(0.4398555, shape=(), dtype=float32) Generator loss: tf.Tensor(2.5020168, shape=(), dtype=float32)\n",
            "epoch: 54 Discriminator loss: tf.Tensor(0.47320122, shape=(), dtype=float32) Generator loss: tf.Tensor(2.3094018, shape=(), dtype=float32)\n",
            "epoch: 55 Discriminator loss: tf.Tensor(0.43010885, shape=(), dtype=float32) Generator loss: tf.Tensor(2.9271235, shape=(), dtype=float32)\n",
            "epoch: 56 Discriminator loss: tf.Tensor(0.6036304, shape=(), dtype=float32) Generator loss: tf.Tensor(4.8644614, shape=(), dtype=float32)\n",
            "epoch: 57 Discriminator loss: tf.Tensor(0.43242192, shape=(), dtype=float32) Generator loss: tf.Tensor(2.323041, shape=(), dtype=float32)\n",
            "epoch: 58 Discriminator loss: tf.Tensor(0.42215678, shape=(), dtype=float32) Generator loss: tf.Tensor(3.8543797, shape=(), dtype=float32)\n",
            "epoch: 59 Discriminator loss: tf.Tensor(0.5004853, shape=(), dtype=float32) Generator loss: tf.Tensor(1.9168396, shape=(), dtype=float32)\n",
            "epoch: 60 Discriminator loss: tf.Tensor(0.4179157, shape=(), dtype=float32) Generator loss: tf.Tensor(2.846107, shape=(), dtype=float32)\n",
            "epoch: 61 Discriminator loss: tf.Tensor(0.41695905, shape=(), dtype=float32) Generator loss: tf.Tensor(3.5907657, shape=(), dtype=float32)\n",
            "epoch: 62 Discriminator loss: tf.Tensor(0.5293827, shape=(), dtype=float32) Generator loss: tf.Tensor(3.8811848, shape=(), dtype=float32)\n",
            "epoch: 63 Discriminator loss: tf.Tensor(0.42100063, shape=(), dtype=float32) Generator loss: tf.Tensor(3.9903839, shape=(), dtype=float32)\n",
            "epoch: 64 Discriminator loss: tf.Tensor(0.42223, shape=(), dtype=float32) Generator loss: tf.Tensor(2.4652438, shape=(), dtype=float32)\n",
            "epoch: 65 Discriminator loss: tf.Tensor(0.5049687, shape=(), dtype=float32) Generator loss: tf.Tensor(3.2758167, shape=(), dtype=float32)\n",
            "epoch: 66 Discriminator loss: tf.Tensor(0.41358796, shape=(), dtype=float32) Generator loss: tf.Tensor(3.6280282, shape=(), dtype=float32)\n",
            "epoch: 67 Discriminator loss: tf.Tensor(0.4177674, shape=(), dtype=float32) Generator loss: tf.Tensor(2.5167775, shape=(), dtype=float32)\n",
            "epoch: 68 Discriminator loss: tf.Tensor(0.6684875, shape=(), dtype=float32) Generator loss: tf.Tensor(5.74899, shape=(), dtype=float32)\n",
            "epoch: 69 Discriminator loss: tf.Tensor(0.43221715, shape=(), dtype=float32) Generator loss: tf.Tensor(3.7667122, shape=(), dtype=float32)\n",
            "epoch: 70 Discriminator loss: tf.Tensor(0.43668634, shape=(), dtype=float32) Generator loss: tf.Tensor(3.4221904, shape=(), dtype=float32)\n",
            "epoch: 71 Discriminator loss: tf.Tensor(0.4848007, shape=(), dtype=float32) Generator loss: tf.Tensor(1.6384838, shape=(), dtype=float32)\n",
            "epoch: 72 Discriminator loss: tf.Tensor(0.5893955, shape=(), dtype=float32) Generator loss: tf.Tensor(2.2713845, shape=(), dtype=float32)\n",
            "epoch: 73 Discriminator loss: tf.Tensor(0.47415593, shape=(), dtype=float32) Generator loss: tf.Tensor(2.4470506, shape=(), dtype=float32)\n",
            "epoch: 74 Discriminator loss: tf.Tensor(0.4244044, shape=(), dtype=float32) Generator loss: tf.Tensor(3.3008187, shape=(), dtype=float32)\n",
            "epoch: 75 Discriminator loss: tf.Tensor(0.5749575, shape=(), dtype=float32) Generator loss: tf.Tensor(4.6726913, shape=(), dtype=float32)\n",
            "epoch: 76 Discriminator loss: tf.Tensor(0.44862902, shape=(), dtype=float32) Generator loss: tf.Tensor(2.851436, shape=(), dtype=float32)\n",
            "epoch: 77 Discriminator loss: tf.Tensor(0.47631627, shape=(), dtype=float32) Generator loss: tf.Tensor(3.4753418, shape=(), dtype=float32)\n",
            "epoch: 78 Discriminator loss: tf.Tensor(0.47378427, shape=(), dtype=float32) Generator loss: tf.Tensor(3.5697358, shape=(), dtype=float32)\n",
            "epoch: 79 Discriminator loss: tf.Tensor(0.4303186, shape=(), dtype=float32) Generator loss: tf.Tensor(3.1024718, shape=(), dtype=float32)\n",
            "epoch: 80 Discriminator loss: tf.Tensor(0.48635447, shape=(), dtype=float32) Generator loss: tf.Tensor(2.9928727, shape=(), dtype=float32)\n",
            "epoch: 81 Discriminator loss: tf.Tensor(0.40979576, shape=(), dtype=float32) Generator loss: tf.Tensor(2.9718342, shape=(), dtype=float32)\n",
            "epoch: 82 Discriminator loss: tf.Tensor(0.474032, shape=(), dtype=float32) Generator loss: tf.Tensor(3.6293335, shape=(), dtype=float32)\n",
            "epoch: 83 Discriminator loss: tf.Tensor(0.54232496, shape=(), dtype=float32) Generator loss: tf.Tensor(4.9657097, shape=(), dtype=float32)\n",
            "epoch: 84 Discriminator loss: tf.Tensor(0.41656002, shape=(), dtype=float32) Generator loss: tf.Tensor(3.1269135, shape=(), dtype=float32)\n",
            "epoch: 85 Discriminator loss: tf.Tensor(0.44523957, shape=(), dtype=float32) Generator loss: tf.Tensor(2.569912, shape=(), dtype=float32)\n",
            "epoch: 86 Discriminator loss: tf.Tensor(0.6106634, shape=(), dtype=float32) Generator loss: tf.Tensor(3.1552176, shape=(), dtype=float32)\n",
            "epoch: 87 Discriminator loss: tf.Tensor(0.42844906, shape=(), dtype=float32) Generator loss: tf.Tensor(2.533804, shape=(), dtype=float32)\n",
            "epoch: 88 Discriminator loss: tf.Tensor(0.50481355, shape=(), dtype=float32) Generator loss: tf.Tensor(3.3138878, shape=(), dtype=float32)\n",
            "epoch: 89 Discriminator loss: tf.Tensor(0.45120955, shape=(), dtype=float32) Generator loss: tf.Tensor(4.33577, shape=(), dtype=float32)\n",
            "epoch: 90 Discriminator loss: tf.Tensor(0.4409085, shape=(), dtype=float32) Generator loss: tf.Tensor(4.064651, shape=(), dtype=float32)\n",
            "epoch: 91 Discriminator loss: tf.Tensor(0.4217564, shape=(), dtype=float32) Generator loss: tf.Tensor(3.4646752, shape=(), dtype=float32)\n",
            "epoch: 92 Discriminator loss: tf.Tensor(0.514354, shape=(), dtype=float32) Generator loss: tf.Tensor(4.267787, shape=(), dtype=float32)\n",
            "epoch: 93 Discriminator loss: tf.Tensor(0.41494858, shape=(), dtype=float32) Generator loss: tf.Tensor(2.8517878, shape=(), dtype=float32)\n",
            "epoch: 94 Discriminator loss: tf.Tensor(0.66681314, shape=(), dtype=float32) Generator loss: tf.Tensor(3.3292956, shape=(), dtype=float32)\n",
            "epoch: 95 Discriminator loss: tf.Tensor(0.59232163, shape=(), dtype=float32) Generator loss: tf.Tensor(5.557749, shape=(), dtype=float32)\n",
            "epoch: 96 Discriminator loss: tf.Tensor(0.43496165, shape=(), dtype=float32) Generator loss: tf.Tensor(2.53225, shape=(), dtype=float32)\n",
            "epoch: 97 Discriminator loss: tf.Tensor(0.4587615, shape=(), dtype=float32) Generator loss: tf.Tensor(4.5059614, shape=(), dtype=float32)\n",
            "epoch: 98 Discriminator loss: tf.Tensor(0.4121005, shape=(), dtype=float32) Generator loss: tf.Tensor(3.2707772, shape=(), dtype=float32)\n",
            "epoch: 99 Discriminator loss: tf.Tensor(0.42328158, shape=(), dtype=float32) Generator loss: tf.Tensor(3.7601674, shape=(), dtype=float32)\n"
          ],
          "name": "stdout"
        }
      ]
    },
    {
      "cell_type": "raw",
      "metadata": {
        "id": "zWICLVvZm-EU"
      },
      "source": [
        "latent_points = np.random.normal(size=(1, latent_dim))\n",
        "examples = generator.predict(latent_points)\n",
        "pyplot.imshow(tf.reshape(examples, shape=(64, 64, 3)))"
      ]
    },
    {
      "cell_type": "code",
      "metadata": {
        "colab": {
          "base_uri": "https://localhost:8080/",
          "height": 302
        },
        "id": "I89MglSZm-EV",
        "outputId": "bc4bfcf8-71a5-40b8-bfc3-dab5775c1c79"
      },
      "source": [
        "pyplot.imshow(tf.reshape(generator(np.random.randn(1, latent_dim)), (64, 64, 3)))"
      ],
      "execution_count": 16,
      "outputs": [
        {
          "output_type": "stream",
          "text": [
            "Clipping input data to the valid range for imshow with RGB data ([0..1] for floats or [0..255] for integers).\n"
          ],
          "name": "stderr"
        },
        {
          "output_type": "execute_result",
          "data": {
            "text/plain": [
              "<matplotlib.image.AxesImage at 0x7f462a1e0490>"
            ]
          },
          "metadata": {
            "tags": []
          },
          "execution_count": 16
        },
        {
          "output_type": "display_data",
          "data": {
            "image/png": "[encoded data removed]",
            "text/plain": [
              "<Figure size 432x288 with 1 Axes>"
            ]
          },
          "metadata": {
            "tags": [],
            "needs_background": "light"
          }
        }
      ]
    },
    {
      "cell_type": "markdown",
      "metadata": {
        "id": "MLEdN7x7qYpZ"
      },
      "source": [
        "## Evaluation with FID Score"
      ]
    },
    {
      "cell_type": "code",
      "metadata": {
        "id": "-H5G28cIwskG"
      },
      "source": [
        "def resize_and_preprocess(image):\n",
        "\n",
        "    # resize the image to the expected input size for inception model\n",
        "    image = tf.image.resize(image, (299,299), method='nearest')\n",
        "\n",
        "    # preprocess image requied by inception model\n",
        "    image = tf.cast(image, tf.float32)\n",
        "    image = tf.keras.applications.inception_v3.preprocess_input(image)\n",
        "\n",
        "    return image\n",
        "\n",
        "def load_image(image_path):\n",
        "    img = tf.io.read_file(image_path)\n",
        "    img = tf.io.decode_jpeg(img)\n",
        "    img = tf.image.resize_with_crop_or_pad(img, IMG_H, IMG_W)\n",
        "    img = tf.cast(img, tf.float32)\n",
        "    img = (img - 127.5) / 127.5\n",
        "    return img\n",
        "\n",
        "def tf_dataset(images_path):\n",
        "    dataset = tf.data.Dataset.from_tensor_slices(images_path)\n",
        "    dataset = dataset.map(load_image, num_parallel_calls=tf.data.experimental.AUTOTUNE)\n",
        "    return dataset\n",
        "\n",
        "images_path = glob('/content/drive/MyDrive/Colab Notebooks/DL Project/data/*')\n",
        "images_dataset = tf_dataset(images_path)\n",
        "\n",
        "trainloader = (\n",
        "    images_dataset\n",
        "    .shuffle(1024)\n",
        "    .map(resize_and_preprocess, num_parallel_calls=tf.data.experimental.AUTOTUNE)\n",
        "    .batch(5)\n",
        "    .prefetch(tf.data.experimental.AUTOTUNE)\n",
        ")"
      ],
      "execution_count": 18,
      "outputs": []
    },
    {
      "cell_type": "code",
      "metadata": {
        "id": "IQXHkY89m-EV"
      },
      "source": [
        "def generate_images(l, model):\n",
        "    # generate images using the trained generator\n",
        "    noise = tf.random.normal([batch_size, latent_dim])\n",
        "    images = generator(noise)\n",
        "\n",
        "    # prepare the images for resize_and_preprocess function\n",
        "    #images = tf.squeeze(images, axis=-1)\n",
        "    images = images*0.5+0.5\n",
        "    images = tf.image.convert_image_dtype(images, dtype=tf.uint8)\n",
        "\n",
        "    return images\n",
        "\n",
        "genloader = tf.data.Dataset.from_tensors([1])\n",
        "\n",
        "genloader = (\n",
        "    genloader\n",
        "    .map(lambda x: generate_images(x, generator), num_parallel_calls=tf.data.experimental.AUTOTUNE)\n",
        "    .map(resize_and_preprocess, num_parallel_calls=tf.data.experimental.AUTOTUNE)\n",
        "    .prefetch(tf.data.experimental.AUTOTUNE)\n",
        ")"
      ],
      "execution_count": 19,
      "outputs": []
    },
    {
      "cell_type": "code",
      "metadata": {
        "id": "I43NWxfIrV19"
      },
      "source": [
        "from tqdm import tqdm\n",
        "\n",
        "def compute_embeddings(dataloader, count):\n",
        "    image_embeddings = []\n",
        "\n",
        "    for _ in tqdm(range(count)):\n",
        "        images = next(iter(dataloader))\n",
        "        print(images.shape)\n",
        "        embeddings = inception_model.predict(images)\n",
        "\n",
        "        image_embeddings.extend(embeddings)\n",
        "\n",
        "    return np.array(image_embeddings)\n",
        "\n"
      ],
      "execution_count": 20,
      "outputs": []
    },
    {
      "cell_type": "code",
      "metadata": {
        "id": "BxqNzTTns3vG",
        "colab": {
          "base_uri": "https://localhost:8080/"
        },
        "outputId": "f46a0435-59a6-4539-fa8c-3b10fbd959cb"
      },
      "source": [
        "tf.keras.backend.clear_session()\n",
        "from tensorflow.keras.applications.inception_v3 import InceptionV3\n",
        "from tensorflow.keras.applications.inception_v3 import preprocess_input\n",
        "\n",
        "inception_model = InceptionV3(include_top=False, \n",
        "                              pooling='avg',\n",
        "                              input_shape=(299, 299, 3))"
      ],
      "execution_count": 21,
      "outputs": [
        {
          "output_type": "stream",
          "text": [
            "Downloading data from https://storage.googleapis.com/tensorflow/keras-applications/inception_v3/inception_v3_weights_tf_dim_ordering_tf_kernels_notop.h5\n",
            "87916544/87910968 [==============================] - 1s 0us/step\n"
          ],
          "name": "stdout"
        }
      ]
    },
    {
      "cell_type": "code",
      "metadata": {
        "colab": {
          "base_uri": "https://localhost:8080/"
        },
        "id": "Krhy0LwIsh34",
        "outputId": "ed218bf2-ea24-444e-eba8-1ca3d9e98519"
      },
      "source": [
        "import math\n",
        "\n",
        "count = 25\n",
        "\n",
        "# compute embeddings for real images\n",
        "real_image_embeddings = compute_embeddings(trainloader, count)\n",
        "\n",
        "# compute embeddings for generated images\n",
        "generated_image_embeddings = compute_embeddings(genloader, count)\n",
        "\n",
        "real_image_embeddings.shape, generated_image_embeddings.shape"
      ],
      "execution_count": 22,
      "outputs": [
        {
          "output_type": "stream",
          "text": [
            "\r  0%|          | 0/25 [00:00<?, ?it/s]"
          ],
          "name": "stderr"
        },
        {
          "output_type": "stream",
          "text": [
            "(5, 299, 299, 3)\n"
          ],
          "name": "stdout"
        },
        {
          "output_type": "stream",
          "text": [
            "  8%|▊         | 2/25 [00:04<01:00,  2.63s/it]"
          ],
          "name": "stderr"
        },
        {
          "output_type": "stream",
          "text": [
            "(5, 299, 299, 3)\n"
          ],
          "name": "stdout"
        },
        {
          "output_type": "stream",
          "text": [
            "\r 12%|█▏        | 3/25 [00:05<00:47,  2.17s/it]"
          ],
          "name": "stderr"
        },
        {
          "output_type": "stream",
          "text": [
            "(5, 299, 299, 3)\n"
          ],
          "name": "stdout"
        },
        {
          "output_type": "stream",
          "text": [
            "\r 16%|█▌        | 4/25 [00:06<00:38,  1.84s/it]"
          ],
          "name": "stderr"
        },
        {
          "output_type": "stream",
          "text": [
            "(5, 299, 299, 3)\n"
          ],
          "name": "stdout"
        },
        {
          "output_type": "stream",
          "text": [
            "\r 20%|██        | 5/25 [00:07<00:32,  1.60s/it]"
          ],
          "name": "stderr"
        },
        {
          "output_type": "stream",
          "text": [
            "(5, 299, 299, 3)\n"
          ],
          "name": "stdout"
        },
        {
          "output_type": "stream",
          "text": [
            "\r 24%|██▍       | 6/25 [00:08<00:27,  1.46s/it]"
          ],
          "name": "stderr"
        },
        {
          "output_type": "stream",
          "text": [
            "(5, 299, 299, 3)\n"
          ],
          "name": "stdout"
        },
        {
          "output_type": "stream",
          "text": [
            "\r 28%|██▊       | 7/25 [00:09<00:24,  1.34s/it]"
          ],
          "name": "stderr"
        },
        {
          "output_type": "stream",
          "text": [
            "(5, 299, 299, 3)\n"
          ],
          "name": "stdout"
        },
        {
          "output_type": "stream",
          "text": [
            "\r 32%|███▏      | 8/25 [00:10<00:21,  1.25s/it]"
          ],
          "name": "stderr"
        },
        {
          "output_type": "stream",
          "text": [
            "(5, 299, 299, 3)\n"
          ],
          "name": "stdout"
        },
        {
          "output_type": "stream",
          "text": [
            "\r 36%|███▌      | 9/25 [00:11<00:19,  1.20s/it]"
          ],
          "name": "stderr"
        },
        {
          "output_type": "stream",
          "text": [
            "(5, 299, 299, 3)\n"
          ],
          "name": "stdout"
        },
        {
          "output_type": "stream",
          "text": [
            "\r 40%|████      | 10/25 [00:12<00:17,  1.17s/it]"
          ],
          "name": "stderr"
        },
        {
          "output_type": "stream",
          "text": [
            "(5, 299, 299, 3)\n"
          ],
          "name": "stdout"
        },
        {
          "output_type": "stream",
          "text": [
            "\r 44%|████▍     | 11/25 [00:14<00:16,  1.15s/it]"
          ],
          "name": "stderr"
        },
        {
          "output_type": "stream",
          "text": [
            "(5, 299, 299, 3)\n"
          ],
          "name": "stdout"
        },
        {
          "output_type": "stream",
          "text": [
            "\r 48%|████▊     | 12/25 [00:15<00:14,  1.13s/it]"
          ],
          "name": "stderr"
        },
        {
          "output_type": "stream",
          "text": [
            "(5, 299, 299, 3)\n"
          ],
          "name": "stdout"
        },
        {
          "output_type": "stream",
          "text": [
            "\r 52%|█████▏    | 13/25 [00:16<00:13,  1.11s/it]"
          ],
          "name": "stderr"
        },
        {
          "output_type": "stream",
          "text": [
            "(5, 299, 299, 3)\n"
          ],
          "name": "stdout"
        },
        {
          "output_type": "stream",
          "text": [
            "\r 56%|█████▌    | 14/25 [00:17<00:12,  1.09s/it]"
          ],
          "name": "stderr"
        },
        {
          "output_type": "stream",
          "text": [
            "(5, 299, 299, 3)\n"
          ],
          "name": "stdout"
        },
        {
          "output_type": "stream",
          "text": [
            "\r 60%|██████    | 15/25 [00:18<00:10,  1.10s/it]"
          ],
          "name": "stderr"
        },
        {
          "output_type": "stream",
          "text": [
            "(5, 299, 299, 3)\n"
          ],
          "name": "stdout"
        },
        {
          "output_type": "stream",
          "text": [
            "\r 64%|██████▍   | 16/25 [00:19<00:09,  1.09s/it]"
          ],
          "name": "stderr"
        },
        {
          "output_type": "stream",
          "text": [
            "(5, 299, 299, 3)\n"
          ],
          "name": "stdout"
        },
        {
          "output_type": "stream",
          "text": [
            "\r 68%|██████▊   | 17/25 [00:20<00:08,  1.08s/it]"
          ],
          "name": "stderr"
        },
        {
          "output_type": "stream",
          "text": [
            "(5, 299, 299, 3)\n"
          ],
          "name": "stdout"
        },
        {
          "output_type": "stream",
          "text": [
            "\r 72%|███████▏  | 18/25 [00:21<00:07,  1.08s/it]"
          ],
          "name": "stderr"
        },
        {
          "output_type": "stream",
          "text": [
            "(5, 299, 299, 3)\n"
          ],
          "name": "stdout"
        },
        {
          "output_type": "stream",
          "text": [
            "\r 76%|███████▌  | 19/25 [00:22<00:06,  1.07s/it]"
          ],
          "name": "stderr"
        },
        {
          "output_type": "stream",
          "text": [
            "(5, 299, 299, 3)\n"
          ],
          "name": "stdout"
        },
        {
          "output_type": "stream",
          "text": [
            "\r 80%|████████  | 20/25 [00:23<00:05,  1.07s/it]"
          ],
          "name": "stderr"
        },
        {
          "output_type": "stream",
          "text": [
            "(5, 299, 299, 3)\n"
          ],
          "name": "stdout"
        },
        {
          "output_type": "stream",
          "text": [
            "\r 84%|████████▍ | 21/25 [00:24<00:04,  1.07s/it]"
          ],
          "name": "stderr"
        },
        {
          "output_type": "stream",
          "text": [
            "(5, 299, 299, 3)\n"
          ],
          "name": "stdout"
        },
        {
          "output_type": "stream",
          "text": [
            "\r 88%|████████▊ | 22/25 [00:25<00:03,  1.06s/it]"
          ],
          "name": "stderr"
        },
        {
          "output_type": "stream",
          "text": [
            "(5, 299, 299, 3)\n"
          ],
          "name": "stdout"
        },
        {
          "output_type": "stream",
          "text": [
            "\r 92%|█████████▏| 23/25 [00:26<00:02,  1.07s/it]"
          ],
          "name": "stderr"
        },
        {
          "output_type": "stream",
          "text": [
            "(5, 299, 299, 3)\n"
          ],
          "name": "stdout"
        },
        {
          "output_type": "stream",
          "text": [
            "\r 96%|█████████▌| 24/25 [00:27<00:01,  1.06s/it]"
          ],
          "name": "stderr"
        },
        {
          "output_type": "stream",
          "text": [
            "(5, 299, 299, 3)\n"
          ],
          "name": "stdout"
        },
        {
          "output_type": "stream",
          "text": [
            "100%|██████████| 25/25 [00:29<00:00,  1.16s/it]\n",
            "  0%|          | 0/25 [00:00<?, ?it/s]"
          ],
          "name": "stderr"
        },
        {
          "output_type": "stream",
          "text": [
            "(5, 299, 299, 3)\n",
            "(10, 299, 299, 3)\n"
          ],
          "name": "stdout"
        },
        {
          "output_type": "stream",
          "text": [
            "  8%|▊         | 2/25 [00:02<00:39,  1.71s/it]"
          ],
          "name": "stderr"
        },
        {
          "output_type": "stream",
          "text": [
            "(10, 299, 299, 3)\n"
          ],
          "name": "stdout"
        },
        {
          "output_type": "stream",
          "text": [
            "\r 12%|█▏        | 3/25 [00:03<00:30,  1.39s/it]"
          ],
          "name": "stderr"
        },
        {
          "output_type": "stream",
          "text": [
            "(10, 299, 299, 3)\n"
          ],
          "name": "stdout"
        },
        {
          "output_type": "stream",
          "text": [
            "\r 16%|█▌        | 4/25 [00:04<00:24,  1.18s/it]"
          ],
          "name": "stderr"
        },
        {
          "output_type": "stream",
          "text": [
            "(10, 299, 299, 3)\n"
          ],
          "name": "stdout"
        },
        {
          "output_type": "stream",
          "text": [
            "\r 20%|██        | 5/25 [00:04<00:20,  1.03s/it]"
          ],
          "name": "stderr"
        },
        {
          "output_type": "stream",
          "text": [
            "(10, 299, 299, 3)\n"
          ],
          "name": "stdout"
        },
        {
          "output_type": "stream",
          "text": [
            "\r 24%|██▍       | 6/25 [00:05<00:17,  1.07it/s]"
          ],
          "name": "stderr"
        },
        {
          "output_type": "stream",
          "text": [
            "(10, 299, 299, 3)\n"
          ],
          "name": "stdout"
        },
        {
          "output_type": "stream",
          "text": [
            "\r 28%|██▊       | 7/25 [00:06<00:15,  1.17it/s]"
          ],
          "name": "stderr"
        },
        {
          "output_type": "stream",
          "text": [
            "(10, 299, 299, 3)\n"
          ],
          "name": "stdout"
        },
        {
          "output_type": "stream",
          "text": [
            "\r 32%|███▏      | 8/25 [00:06<00:13,  1.25it/s]"
          ],
          "name": "stderr"
        },
        {
          "output_type": "stream",
          "text": [
            "(10, 299, 299, 3)\n"
          ],
          "name": "stdout"
        },
        {
          "output_type": "stream",
          "text": [
            "\r 36%|███▌      | 9/25 [00:07<00:12,  1.29it/s]"
          ],
          "name": "stderr"
        },
        {
          "output_type": "stream",
          "text": [
            "(10, 299, 299, 3)\n"
          ],
          "name": "stdout"
        },
        {
          "output_type": "stream",
          "text": [
            "\r 40%|████      | 10/25 [00:08<00:11,  1.34it/s]"
          ],
          "name": "stderr"
        },
        {
          "output_type": "stream",
          "text": [
            "(10, 299, 299, 3)\n"
          ],
          "name": "stdout"
        },
        {
          "output_type": "stream",
          "text": [
            "\r 44%|████▍     | 11/25 [00:08<00:10,  1.38it/s]"
          ],
          "name": "stderr"
        },
        {
          "output_type": "stream",
          "text": [
            "(10, 299, 299, 3)\n"
          ],
          "name": "stdout"
        },
        {
          "output_type": "stream",
          "text": [
            "\r 48%|████▊     | 12/25 [00:09<00:09,  1.40it/s]"
          ],
          "name": "stderr"
        },
        {
          "output_type": "stream",
          "text": [
            "(10, 299, 299, 3)\n"
          ],
          "name": "stdout"
        },
        {
          "output_type": "stream",
          "text": [
            "\r 52%|█████▏    | 13/25 [00:10<00:09,  1.32it/s]"
          ],
          "name": "stderr"
        },
        {
          "output_type": "stream",
          "text": [
            "(10, 299, 299, 3)\n"
          ],
          "name": "stdout"
        },
        {
          "output_type": "stream",
          "text": [
            "\r 56%|█████▌    | 14/25 [00:11<00:08,  1.35it/s]"
          ],
          "name": "stderr"
        },
        {
          "output_type": "stream",
          "text": [
            "(10, 299, 299, 3)\n"
          ],
          "name": "stdout"
        },
        {
          "output_type": "stream",
          "text": [
            "\r 60%|██████    | 15/25 [00:11<00:07,  1.38it/s]"
          ],
          "name": "stderr"
        },
        {
          "output_type": "stream",
          "text": [
            "(10, 299, 299, 3)\n"
          ],
          "name": "stdout"
        },
        {
          "output_type": "stream",
          "text": [
            "\r 64%|██████▍   | 16/25 [00:12<00:06,  1.36it/s]"
          ],
          "name": "stderr"
        },
        {
          "output_type": "stream",
          "text": [
            "(10, 299, 299, 3)\n"
          ],
          "name": "stdout"
        },
        {
          "output_type": "stream",
          "text": [
            "\r 68%|██████▊   | 17/25 [00:13<00:05,  1.40it/s]"
          ],
          "name": "stderr"
        },
        {
          "output_type": "stream",
          "text": [
            "(10, 299, 299, 3)\n"
          ],
          "name": "stdout"
        },
        {
          "output_type": "stream",
          "text": [
            "\r 72%|███████▏  | 18/25 [00:14<00:04,  1.41it/s]"
          ],
          "name": "stderr"
        },
        {
          "output_type": "stream",
          "text": [
            "(10, 299, 299, 3)\n"
          ],
          "name": "stdout"
        },
        {
          "output_type": "stream",
          "text": [
            "\r 76%|███████▌  | 19/25 [00:14<00:04,  1.44it/s]"
          ],
          "name": "stderr"
        },
        {
          "output_type": "stream",
          "text": [
            "(10, 299, 299, 3)\n"
          ],
          "name": "stdout"
        },
        {
          "output_type": "stream",
          "text": [
            "\r 80%|████████  | 20/25 [00:15<00:03,  1.47it/s]"
          ],
          "name": "stderr"
        },
        {
          "output_type": "stream",
          "text": [
            "(10, 299, 299, 3)\n"
          ],
          "name": "stdout"
        },
        {
          "output_type": "stream",
          "text": [
            "\r 84%|████████▍ | 21/25 [00:16<00:02,  1.43it/s]"
          ],
          "name": "stderr"
        },
        {
          "output_type": "stream",
          "text": [
            "(10, 299, 299, 3)\n"
          ],
          "name": "stdout"
        },
        {
          "output_type": "stream",
          "text": [
            "\r 88%|████████▊ | 22/25 [00:16<00:02,  1.38it/s]"
          ],
          "name": "stderr"
        },
        {
          "output_type": "stream",
          "text": [
            "(10, 299, 299, 3)\n"
          ],
          "name": "stdout"
        },
        {
          "output_type": "stream",
          "text": [
            "\r 92%|█████████▏| 23/25 [00:17<00:01,  1.41it/s]"
          ],
          "name": "stderr"
        },
        {
          "output_type": "stream",
          "text": [
            "(10, 299, 299, 3)\n"
          ],
          "name": "stdout"
        },
        {
          "output_type": "stream",
          "text": [
            "\r 96%|█████████▌| 24/25 [00:18<00:00,  1.42it/s]"
          ],
          "name": "stderr"
        },
        {
          "output_type": "stream",
          "text": [
            "(10, 299, 299, 3)\n"
          ],
          "name": "stdout"
        },
        {
          "output_type": "stream",
          "text": [
            "100%|██████████| 25/25 [00:18<00:00,  1.32it/s]"
          ],
          "name": "stderr"
        },
        {
          "output_type": "stream",
          "text": [
            "(10, 299, 299, 3)\n"
          ],
          "name": "stdout"
        },
        {
          "output_type": "stream",
          "text": [
            "\n"
          ],
          "name": "stderr"
        },
        {
          "output_type": "execute_result",
          "data": {
            "text/plain": [
              "((125, 2048), (250, 2048))"
            ]
          },
          "metadata": {
            "tags": []
          },
          "execution_count": 22
        }
      ]
    },
    {
      "cell_type": "code",
      "metadata": {
        "id": "ZiTVIG6fx479"
      },
      "source": [
        "from scipy import linalg\n",
        "\n",
        "def calculate_fid(real_embeddings, generated_embeddings):\n",
        "    # calculate mean and covariance statistics\n",
        "    mu1, sigma1 = real_embeddings.mean(axis=0), np.cov(real_embeddings, rowvar=False)\n",
        "    mu2, sigma2 = generated_embeddings.mean(axis=0), np.cov(generated_embeddings, rowvar=False)\n",
        "    # calculate sum squared difference between means\n",
        "    ssdiff = np.sum((mu1 - mu2)**2.0)\n",
        "    # calculate sqrt of product between cov\n",
        "    covmean = linalg.sqrtm(sigma1.dot(sigma2))\n",
        "    # check and correct imaginary numbers from sqrt\n",
        "    if np.iscomplexobj(covmean):\n",
        "      covmean = covmean.real\n",
        "    # calculate score\n",
        "    fid = ssdiff + np.trace(sigma1 + sigma2 - 2.0 * covmean)\n",
        "    return fid"
      ],
      "execution_count": 23,
      "outputs": []
    },
    {
      "cell_type": "code",
      "metadata": {
        "colab": {
          "base_uri": "https://localhost:8080/"
        },
        "id": "IreXM6cs05x7",
        "outputId": "5d5ae33b-c884-47ed-ec0b-eecdde42f6d0"
      },
      "source": [
        "fid = calculate_fid(real_image_embeddings, generated_image_embeddings)\n",
        "\n",
        "print('The computed FID score is: ', fid)"
      ],
      "execution_count": 24,
      "outputs": [
        {
          "output_type": "stream",
          "text": [
            "The computed FID score is:  474.0227204571863\n"
          ],
          "name": "stdout"
        }
      ]
    }
  ]
}